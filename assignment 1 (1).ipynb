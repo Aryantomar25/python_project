{
 "cells": [
  {
   "cell_type": "markdown",
   "id": "1127d2bb",
   "metadata": {},
   "source": [
    "# ASSIGNMENT-"
   ]
  },
  {
   "cell_type": "markdown",
   "id": "0a0c9d59",
   "metadata": {},
   "source": [
    "# 1.) multiply all numbers in the list."
   ]
  },
  {
   "cell_type": "code",
   "execution_count": 34,
   "id": "ad79f47b",
   "metadata": {},
   "outputs": [
    {
     "name": "stdout",
     "output_type": "stream",
     "text": [
      "multiplication of all elements present in list [1, 2, 3, 4, 5, 6, 7, 8, 9] is 362880\n"
     ]
    }
   ],
   "source": [
    "x=1\n",
    "list_1 =[1,2,3,4,5,6,7,8,9]\n",
    "for y in list_1:\n",
    "    x=x*y\n",
    "print(\"multiplication of all elements present in list\",list_1,\"is\",x)"
   ]
  },
  {
   "cell_type": "markdown",
   "id": "49703dc0",
   "metadata": {},
   "source": [
    "# 2.) find smallest number in a list."
   ]
  },
  {
   "cell_type": "code",
   "execution_count": 33,
   "id": "95ccb1e6",
   "metadata": {},
   "outputs": [
    {
     "name": "stdout",
     "output_type": "stream",
     "text": [
      "smallest number present in the list [98, 87, 76, 65, 54, 43, 32, 21] is 21\n"
     ]
    }
   ],
   "source": [
    "list_a=[98,87,76,65,54,43,32,21]\n",
    "x=min(list_a)\n",
    "print(\"smallest number present in the list\",list_a,'is',x)"
   ]
  },
  {
   "cell_type": "markdown",
   "id": "db368d4f",
   "metadata": {},
   "source": [
    "# 3.) sum of squares of first n naural numbers."
   ]
  },
  {
   "cell_type": "code",
   "execution_count": 3,
   "id": "48cedae8",
   "metadata": {},
   "outputs": [
    {
     "name": "stdout",
     "output_type": "stream",
     "text": [
      "Enter a number: 12\n",
      "sum of the squares of first 12 natural numbers is 650\n"
     ]
    }
   ],
   "source": [
    "n=int(input('Enter a number: '))\n",
    "sum_s=0\n",
    "for i in range(1,n+1):\n",
    "    sum_s=sum_s+(i**2)\n",
    "print(\"sum of the squares of first\",n,\"natural numbers is\",sum_s)    "
   ]
  },
  {
   "cell_type": "markdown",
   "id": "3bac59cf",
   "metadata": {},
   "source": [
    "# 4.) simple interest"
   ]
  },
  {
   "cell_type": "code",
   "execution_count": 18,
   "id": "3b2b9378",
   "metadata": {},
   "outputs": [
    {
     "name": "stdout",
     "output_type": "stream",
     "text": [
      "Enter the principal amount: 12000\n",
      "Enter the rate of interest: 12\n",
      "Enter the time in years: 25\n",
      "Simple Interest on principal amount of rupees  12000.0 at interest rate of 12.0 percent in 25.0 years is 36000.0\n"
     ]
    }
   ],
   "source": [
    "p = float(input(\"Enter the principal amount: \")) \n",
    "r = float(input(\"Enter the rate of interest: \")) \n",
    "t = float(input(\"Enter the time in years: \")) \n",
    "si = (p * r * t) / 100 \n",
    "print(\"Simple Interest on principal amount of rupees \",p,\"at interest rate of\",r,\"percent in\",t,\"years is\", si)"
   ]
  },
  {
   "cell_type": "markdown",
   "id": "843f0e80",
   "metadata": {},
   "source": [
    "# 5.)compound interest"
   ]
  },
  {
   "cell_type": "code",
   "execution_count": 20,
   "id": "d62f56ee",
   "metadata": {},
   "outputs": [
    {
     "name": "stdout",
     "output_type": "stream",
     "text": [
      "Enter the principle amount: 12000\n",
      "Enter the rate of interest: 12\n",
      "Enter the time in years: 25\n",
      "Compound Interest of principal amount of rupees 12000.0 at interest rate of 12.0 percent in 25 years is 192000.77287971266\n"
     ]
    }
   ],
   "source": [
    "p=float(input(\"Enter the principle amount: \"))\n",
    "r=float(input(\"Enter the rate of interest: \"))\n",
    "t=int(input(\"Enter the time in years: \"))\n",
    "ci = (p*((1+r/100)**t))-p\n",
    "print(\"Compound Interest of principal amount of rupees\",p,\"at interest rate of\",r,\"percent in\",t,\"years is\", ci)"
   ]
  },
  {
   "cell_type": "markdown",
   "id": "7b1877ec",
   "metadata": {},
   "source": [
    "# 6.) calculate area of a circle"
   ]
  },
  {
   "cell_type": "code",
   "execution_count": 23,
   "id": "60ec3e61",
   "metadata": {},
   "outputs": [
    {
     "name": "stdout",
     "output_type": "stream",
     "text": [
      "Enter the radius of circle: 7\n",
      "area of circle of radius 7.0 is 153.86\n"
     ]
    }
   ],
   "source": [
    "r=float(input(\"Enter the radius of circle: \"))\n",
    "ar=3.14*(r**2)\n",
    "print(\"area of circle of radius\",r,'is',ar)"
   ]
  },
  {
   "cell_type": "markdown",
   "id": "6fe4b726",
   "metadata": {},
   "source": [
    "# 7.) add two numbers"
   ]
  },
  {
   "cell_type": "code",
   "execution_count": 27,
   "id": "7ba7af59",
   "metadata": {},
   "outputs": [
    {
     "name": "stdout",
     "output_type": "stream",
     "text": [
      "Enter the first number: 654\n",
      "Enter the second number: 456\n",
      "Sum of 654.0 + 456.0 is 1110.0\n"
     ]
    }
   ],
   "source": [
    "a_1=float(input(\"Enter the first number: \"))\n",
    "a_2=float(input(\"Enter the second number: \"))\n",
    "list_s=[a_1,a_2]\n",
    "sum_a=sum(list_s)\n",
    "print(\"Sum of\",a_1,\"+\",a_2,'is',sum_a)\n"
   ]
  },
  {
   "cell_type": "markdown",
   "id": "2c0617d5",
   "metadata": {},
   "source": [
    "# 8.) maximum of two numbers"
   ]
  },
  {
   "cell_type": "code",
   "execution_count": 29,
   "id": "45bdc189",
   "metadata": {
    "scrolled": true
   },
   "outputs": [
    {
     "name": "stdout",
     "output_type": "stream",
     "text": [
      "Enter the first number: 432\n",
      "Enter the second number: 564\n",
      "maximum of two numbers 432.0 & 564.0 is 564.0\n"
     ]
    }
   ],
   "source": [
    "b_1=float(input(\"Enter the first number: \"))\n",
    "b_2=float(input(\"Enter the second number: \"))\n",
    "list_m=[b_1,b_2]\n",
    "max_b=max(list_m)\n",
    "print(\"maximum of two numbers\",b_1,'&',b_2,'is',max_b)"
   ]
  },
  {
   "cell_type": "markdown",
   "id": "5b2e7817",
   "metadata": {},
   "source": [
    "# 9.) sum of cubesof first n natural numbers."
   ]
  },
  {
   "cell_type": "code",
   "execution_count": 4,
   "id": "b14e65c2",
   "metadata": {
    "scrolled": true
   },
   "outputs": [
    {
     "name": "stdout",
     "output_type": "stream",
     "text": [
      "Enter a number: 12\n",
      "sum of the cubes of first 12 natural numbers is 6084\n"
     ]
    }
   ],
   "source": [
    "n = int(input('Enter a number: '))\n",
    "sum_s = 0\n",
    "for i in range(1, n + 1):\n",
    "    sum_s = sum_s + (i**3)\n",
    "print(\"sum of the cubes of first\",n,\"natural numbers is\",sum_s)"
   ]
  },
  {
   "cell_type": "markdown",
   "id": "582cf378",
   "metadata": {},
   "source": [
    "# 10.) multiply all numbers in the list."
   ]
  },
  {
   "cell_type": "code",
   "execution_count": 1,
   "id": "1863ee75",
   "metadata": {},
   "outputs": [
    {
     "name": "stdout",
     "output_type": "stream",
     "text": [
      "multiplication of all elements present in list [1, 2, 3, 4, 5, 6, 7, 8, 9] is 362880\n"
     ]
    }
   ],
   "source": [
    "x=1\n",
    "list_1 =[1,2,3,4,5,6,7,8,9]\n",
    "for y in list_1:\n",
    "    x=x*y\n",
    "print(\"multiplication of all elements present in list\",list_1,\"is\",x)"
   ]
  },
  {
   "cell_type": "code",
   "execution_count": null,
   "id": "dd5e90cb",
   "metadata": {},
   "outputs": [],
   "source": []
  }
 ],
 "metadata": {
  "kernelspec": {
   "display_name": "Python 3 (ipykernel)",
   "language": "python",
   "name": "python3"
  },
  "language_info": {
   "codemirror_mode": {
    "name": "ipython",
    "version": 3
   },
   "file_extension": ".py",
   "mimetype": "text/x-python",
   "name": "python",
   "nbconvert_exporter": "python",
   "pygments_lexer": "ipython3",
   "version": "3.9.12"
  }
 },
 "nbformat": 4,
 "nbformat_minor": 5
}
