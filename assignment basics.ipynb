{
 "cells": [
  {
   "cell_type": "markdown",
   "id": "27d3ee44",
   "metadata": {},
   "source": [
    "# Write a code to find the minimum among three given numbers."
   ]
  },
  {
   "cell_type": "code",
   "execution_count": 4,
   "id": "6adf4ba9",
   "metadata": {},
   "outputs": [
    {
     "name": "stdout",
     "output_type": "stream",
     "text": [
      "minimum among three is 3\n"
     ]
    }
   ],
   "source": [
    "def mini(a,b,c):\n",
    "    d=0\n",
    "    if (a<b):\n",
    "        d=a\n",
    "    else:d=b\n",
    "    \n",
    "    if (d<c):\n",
    "        print(\"minimum among three is\",d)\n",
    "    else:(print(\"minimum among three is\",c))\n",
    "\n",
    "mini(12,24,3)\n",
    "    "
   ]
  },
  {
   "cell_type": "markdown",
   "id": "b5f9b9b6",
   "metadata": {},
   "source": [
    "# Write a code to check whether a given number is a palindrome."
   ]
  },
  {
   "cell_type": "code",
   "execution_count": 5,
   "id": "a2ffa275",
   "metadata": {},
   "outputs": [
    {
     "name": "stdout",
     "output_type": "stream",
     "text": [
      "number is palindrome\n"
     ]
    }
   ],
   "source": [
    "\n",
    "def num(n):\n",
    "    a=n\n",
    "    nu=0\n",
    "    b=0\n",
    "    while a!=0:\n",
    "            b=a%10\n",
    "            nu=(nu*10)+b\n",
    "            a=a//10\n",
    "        \n",
    "    if(nu==n):\n",
    "        print (\"number is palindrome\")\n",
    "    else:\n",
    "        print(\"number is not palindrome\")\n",
    "        \n",
    "num(121)        \n"
   ]
  },
  {
   "cell_type": "markdown",
   "id": "8eba88dd",
   "metadata": {},
   "source": [
    "# Write a code to find the sum of numbers divisible by 4.The code must allow the user to accept a number and add it to the sum if it is divisible by 4. It should continue accepting numbers as long as the user wants to provide an input and should display the final sum."
   ]
  },
  {
   "cell_type": "code",
   "execution_count": 3,
   "id": "c8a839ff",
   "metadata": {},
   "outputs": [
    {
     "name": "stdout",
     "output_type": "stream",
     "text": [
      "enter the number4\n",
      "do you want to continue :- YES or NO yes\n",
      "enter the number8\n",
      "do you want to continue :- YES or NO yes\n",
      "enter the number12\n",
      "do you want to continue :- YES or NO no\n",
      "final sum is 24\n"
     ]
    }
   ],
   "source": [
    "\n",
    "sum1=0\n",
    "ans='yes'\n",
    "while ans=='yes':\n",
    "    num=int(input(\"enter the number\"))\n",
    "    if(num%4==0):\n",
    "        sum1=num+sum1\n",
    "    ans=str(input(\"do you want to continue :- YES or NO \"))\n",
    "print(\"final sum is\",sum1)"
   ]
  },
  {
   "cell_type": "code",
   "execution_count": 4,
   "id": "30e6336a",
   "metadata": {},
   "outputs": [
    {
     "name": "stdout",
     "output_type": "stream",
     "text": [
      "enter a number to be checked \n",
      "None123\n",
      "number is not armstrong\n"
     ]
    }
   ],
   "source": [
    "#A three digit number is said to be an “Armstrong number” \n",
    "#if the sum of the third power of its individual digits is equal to the number itself.\n",
    "#Write a program to check whether a number is armstrong or not.\n",
    "\n",
    "num=int(input(\"enter a number to be checked \"))\n",
    "a=num\n",
    "n=0\n",
    "while a!=0:\n",
    "        b=a%10\n",
    "        n=n+(b**3)\n",
    "        a=a//10\n",
    "        \n",
    "if(n==num):\n",
    "    print (\"number is armstrong\")\n",
    "else:\n",
    "    print(\"number is not armstrong\")"
   ]
  },
  {
   "cell_type": "code",
   "execution_count": 21,
   "id": "59d53389",
   "metadata": {},
   "outputs": [
    {
     "ename": "IndentationError",
     "evalue": "unindent does not match any outer indentation level (<tokenize>, line 26)",
     "output_type": "error",
     "traceback": [
      "\u001b[1;36m  File \u001b[1;32m<tokenize>:26\u001b[1;36m\u001b[0m\n\u001b[1;33m    break\u001b[0m\n\u001b[1;37m    ^\u001b[0m\n\u001b[1;31mIndentationError\u001b[0m\u001b[1;31m:\u001b[0m unindent does not match any outer indentation level\n"
     ]
    }
   ],
   "source": [
    "#there are 500 students who have joined the university, \n",
    "#write a code to calculate and display the final fees to be paid by each student.\n",
    "\n",
    "bos=str(input('''enter the CODE of branch of study as following\n",
    "                    ARTS :- A\n",
    "                    ENGINEERING :- E'''))\n",
    "score=int(input(\"enter the score \"))\n",
    "fee=int(input(\"enter course fee \"))\n",
    "dis=0\n",
    "if(bos=='A'):\n",
    "    if(score>=90):\n",
    "        dis = 50/100\n",
    "    elif(score%2==0):\n",
    "        dis=5/100\n",
    "    else : \n",
    "        print(\"no discount availabe\")\n",
    "elif(bos=='E'):\n",
    "    if(score>85):\n",
    "        dis = 50/100\n",
    "    elif(score%7==0):\n",
    "        dis=5/100\n",
    "    else : \n",
    "        print(\"no discount availabe\")\n",
    "else:\n",
    "     print(\"enter the valid CODE\")\n",
    "    break        \n",
    "amnt=fee*dis\n",
    "finalfee= fee-amnt\n",
    "print(\"the final fees to be paid : \",finalfee)\n"
   ]
  },
  {
   "cell_type": "code",
   "execution_count": 43,
   "id": "e6a86262",
   "metadata": {},
   "outputs": [
    {
     "name": "stdout",
     "output_type": "stream",
     "text": [
      "****** welcome to Indian Airlines ******\n",
      "\n",
      "         Please enter the following details :-\n",
      "        \n",
      "        \n",
      "Enter the number of adults :- 2\n",
      "Enter the number of children:- 3\n",
      "\n",
      "         ____________BILL________________\n",
      "                                          \n",
      "TOTAL TICKET COST:- Rs. 112650\n",
      "TOTAL TICKET COST AFTER INCLUSION OF SERVICE TAX (7%):- Rs. 120535\n",
      "\n",
      "         Its a holiday season, airline offering 10% discount:-\n",
      "         \n",
      "         TOTAL TICKET COST AFTER DISCOUNT:- Rs. 108482\n"
     ]
    }
   ],
   "source": [
    "#Find and display the total ticket cost for a group which had adults and children.\n",
    "\n",
    "print(\"****** welcome to Indian Airlines ******\")\n",
    "print('''\n",
    "         Please enter the following details :-\n",
    "        \n",
    "        ''')\n",
    "na=int(input(\"Enter the number of adults :- \"))\n",
    "nc=int(input(\"Enter the number of children:- \"))\n",
    "\n",
    "cost_ad =na*37550.00\n",
    "cost_ch=nc*(12516.66)\n",
    "tot_cost=cost_ad+cost_ch\n",
    "fin_cost=tot_cost+(tot_cost*0.07)\n",
    "fin_cost_dis=fin_cost-(fin_cost*0.1)\n",
    "\n",
    "print('''\n",
    "         ____________BILL________________\n",
    "                                          ''')\n",
    "print(\"TOTAL TICKET COST:- Rs.\",round(tot_cost))\n",
    "print(\"TOTAL TICKET COST AFTER INCLUSION OF SERVICE TAX (7%):- Rs.\",round(fin_cost))\n",
    "print('''\n",
    "         Its a holiday season, airline offering 10% discount:-\n",
    "         \n",
    "         TOTAL TICKET COST AFTER DISCOUNT:- Rs.''',round(fin_cost_dis))\n",
    " \n",
    "\n"
   ]
  },
  {
   "cell_type": "code",
   "execution_count": 48,
   "id": "7c27f832",
   "metadata": {},
   "outputs": [
    {
     "name": "stdout",
     "output_type": "stream",
     "text": [
      "Enter the number 11\n",
      "INVALID\n"
     ]
    }
   ],
   "source": [
    "#Write a python program that displays a message as given for a given number\n",
    "\n",
    "n=int(input(\"Enter the number \"))\n",
    "\n",
    "if(n%3==0 and n%5==0):\n",
    "    print(\"ZOOM\")\n",
    "elif(n%5==0):\n",
    "    print(\"ZAP\")\n",
    "elif(n%3==0):\n",
    "    print(\"ZIP\")\n",
    "else:\n",
    "    print(\"INVALID\")"
   ]
  },
  {
   "cell_type": "code",
   "execution_count": 53,
   "id": "f7948812",
   "metadata": {},
   "outputs": [
    {
     "name": "stdout",
     "output_type": "stream",
     "text": [
      "Enter the score of student:- 65\n",
      "C\n"
     ]
    }
   ],
   "source": [
    "#A teacher in a school wants to find and display the grade of a student based on his/her percentage score. \n",
    "#The criterion for grades is as given.\n",
    "#Assume that the percentage score is a whole number. Write a python program for the requirement.\n",
    "\n",
    "n=int(input(\"Enter the score of student:- \"))\n",
    "\n",
    "if(n<=100 and n>=80):\n",
    "    print(\"A\")\n",
    "elif(n<80 and n>=73):\n",
    "    print(\"B\")\n",
    "elif(n<73 and n>=65):\n",
    "    print(\"C\")\n",
    "elif(n<65 and n>=0):\n",
    "    print(\"D\")\n",
    "else:\n",
    "     print(\"Z\")"
   ]
  },
  {
   "cell_type": "code",
   "execution_count": 56,
   "id": "9360727e",
   "metadata": {},
   "outputs": [
    {
     "name": "stdout",
     "output_type": "stream",
     "text": [
      "Enter the first number 1\n",
      "Enter the second number 7\n",
      "Enter the third number 2\n",
      "product of given integer is  2\n"
     ]
    }
   ],
   "source": [
    "#Write a python program to find and display the product of three positive integer values based on the rule mentioned.\n",
    "\n",
    "a=int(input(\"Enter the first number \"))\n",
    "b=int(input(\"Enter the second number \"))\n",
    "c=int(input(\"Enter the third number \"))\n",
    "\n",
    "prd=1\n",
    "if(c==7):\n",
    "    prd=-1\n",
    "elif(b==7):\n",
    "    prd=c\n",
    "elif(a==7):\n",
    "    prd=b*c\n",
    "else:\n",
    "    prd=a*b*c\n",
    "    \n",
    "print(\"product of given integer is \",prd)\n",
    "  "
   ]
  },
  {
   "cell_type": "code",
   "execution_count": 61,
   "id": "60e1c3ac",
   "metadata": {},
   "outputs": [
    {
     "name": "stdout",
     "output_type": "stream",
     "text": [
      "Enter the Available Rs. 1 coins 11\n",
      "Enter the Available Rs. 5 coins 6\n",
      "Enter the Amount to be paid 32\n",
      "Rs. 5 notes needed:- 6\n",
      "Rs. 1 notes needed:- 2\n"
     ]
    }
   ],
   "source": [
    "# question number 10.\n",
    "\n",
    "c1=int(input(\"Enter the Available Rs. 1 coins \"))\n",
    "c5=int(input(\"Enter the Available Rs. 5 coins \"))\n",
    "\n",
    "amnt=int(input(\"Enter the Amount to be paid \"))\n",
    "\n",
    "n5= amnt//5\n",
    "n1=0\n",
    "if(n5<=c5):\n",
    "    n1= amnt%5\n",
    "    print(\"Rs. 5 notes needed:-\",n5)\n",
    "    print(\"Rs. 1 notes needed:-\",n1)\n",
    "else:\n",
    "    print('-1')"
   ]
  },
  {
   "cell_type": "code",
   "execution_count": 86,
   "id": "f2dc0fc1",
   "metadata": {},
   "outputs": [
    {
     "name": "stdout",
     "output_type": "stream",
     "text": [
      "Enter the year2014\n"
     ]
    },
    {
     "data": {
      "text/plain": [
       "[2016,\n",
       " 2020,\n",
       " 2024,\n",
       " 2028,\n",
       " 2032,\n",
       " 2036,\n",
       " 2040,\n",
       " 2044,\n",
       " 2048,\n",
       " 2052,\n",
       " 2056,\n",
       " 2060,\n",
       " 2064,\n",
       " 2068,\n",
       " 2072]"
      ]
     },
     "execution_count": 86,
     "metadata": {},
     "output_type": "execute_result"
    }
   ],
   "source": [
    "#Write a Python program to generate the next 15 leap years starting from a given year. \n",
    "#Populate the leap years into a list and display the list.\n",
    "\n",
    "year=int(input(\"Enter the year\"))\n",
    "next_year=1\n",
    "if(year%4==0):\n",
    "    next_year=year\n",
    "else:\n",
    "    next_year=(year-(year%4))+4\n",
    "lisy=[]\n",
    "for i in range (1,16):\n",
    "    lisy.insert(16,next_year)\n",
    "    next_year=next_year+4\n",
    "lisy "
   ]
  },
  {
   "cell_type": "code",
   "execution_count": 102,
   "id": "41775bb1",
   "metadata": {},
   "outputs": [
    {
     "name": "stdout",
     "output_type": "stream",
     "text": [
      "enter the required the gem :-Emerald\n",
      "enter the amount of gem :-3\n",
      "do you need more gem :- YES or NO yes\n",
      "enter the required the gem :-Ruby\n",
      "enter the amount of gem :-4\n",
      "do you need more gem :- YES or NO yes\n",
      "enter the required the gem :-Black diamond\n",
      "enter the amount of gem :-5\n",
      "do you need more gem :- YES or NO no\n",
      "\n",
      "         _____________BILL____________\n",
      "                                      \n",
      "REQUIRED GEM:- Emerald           REQUIRED AMOUNT:- 3\n",
      "REQUIRED GEM:- Ruby           REQUIRED AMOUNT:- 4\n",
      "REQUIRED GEM:- Black diamond           REQUIRED AMOUNT:- 5\n",
      "PLEASE PAY BILL OF:- 20960\n"
     ]
    }
   ],
   "source": [
    "#ARS Gems Store sells different varieties of gems to its customers.\n",
    "#Write a Python program to calculate the bill amount to be paid by a customer based on the list of gems and quantity purchased.\n",
    "reqd_gem=[]\n",
    "reqd_quantity=[]\n",
    "price_list=[1760,2119,1599,3920,3999]\n",
    "ans='yes'\n",
    "while ans=='yes':\n",
    "    ele1=str(input(\"enter the required the gem :-\"))\n",
    "    ele2=int(input(\"enter the amount of gem :-\"))\n",
    "    reqd_gem.append(ele1)\n",
    "    reqd_quantity.append(ele2)\n",
    "    ans=str(input(\"do you need more gem :- YES or NO \"))\n",
    "price=0\n",
    "   \n",
    "for i,j in zip(reqd_gem,reqd_quantity):\n",
    "    if(i==\"Emerald\"):\n",
    "        price=price+(j*1760)\n",
    "    elif(i==\"Ivory\"):\n",
    "        price=price+(j*2119)\n",
    "    elif(i==\"Jasper\"):\n",
    "        price=price+(j*1599)\n",
    "    elif(i==\"Ruby\"):\n",
    "        price=price+(j*3920)\n",
    "    elif(i==\"Garnet\"):\n",
    "        price=price+(j*3999)\n",
    "    else:\n",
    "        price=price\n",
    "print('''\n",
    "         _____________BILL____________\n",
    "                                      ''')\n",
    "for i,j in zip(reqd_gem,reqd_quantity):\n",
    "    print(\"REQUIRED GEM:-\",i,'         ',\"REQUIRED AMOUNT:-\",j)\n",
    "print(\"PLEASE PAY BILL OF:-\",price)\n",
    "    "
   ]
  },
  {
   "cell_type": "code",
   "execution_count": 104,
   "id": "3ce298b9",
   "metadata": {},
   "outputs": [
    {
     "name": "stdout",
     "output_type": "stream",
     "text": [
      "enter first side 1\n",
      "enter second side 2\n",
      "enter third side 3\n",
      "three given numbers cannot form the sides of a triangle\n"
     ]
    }
   ],
   "source": [
    "# Write a python function to check whether three given numbers can form the sides of a triangle.\n",
    "#Hint\n",
    "#: Three numbers can be the sides of a triangle if none of the numbers are greater than or equal \n",
    "#to the sum of the other two numbers.\n",
    "\n",
    "a=int(input(\"enter first side \"))\n",
    "b=int(input(\"enter second side \"))\n",
    "c=int(input(\"enter third side \"))\n",
    "\n",
    "r=0\n",
    "if((a+b)>c):\n",
    "    print(\"three given numbers cannot form the sides of a triangle\")\n",
    "elif((a+c)>b):\n",
    "    print(\"three given numbers cannot form the sides of a triangle\")\n",
    "elif((c+b)>a):\n",
    "    print(\"three given numbers cannot form the sides of a triangle\")\n",
    "else:\n",
    "    print(\"three given numbers can form the sides of a triangle\")"
   ]
  },
  {
   "cell_type": "code",
   "execution_count": null,
   "id": "b3fb3c7d",
   "metadata": {},
   "outputs": [],
   "source": [
    "#Write a python program to solve a classic ancient Chinese puzzle.\n",
    "#We count 35 heads and 94 legs among the chickens and rabbits in a farm. How many rabbits and how many chickens do we have?\n",
    "\n"
   ]
  },
  {
   "cell_type": "code",
   "execution_count": 24,
   "id": "3c33c3a6",
   "metadata": {},
   "outputs": [
    {
     "name": "stdout",
     "output_type": "stream",
     "text": [
      "NUMBER OF RABBITS ARE  23.0\n",
      "NUMBER OF CHICKENS ARE 12.0\n"
     ]
    }
   ],
   "source": [
    "h=35\n",
    "l=94\n",
    "\n",
    "r=0\n",
    "c=0\n",
    "\n",
    "if(l/4==h):\n",
    "    c=h\n",
    "    r=0\n",
    "    print(\"NUMBER OF RABBITS ARE \",r)\n",
    "    print(\"NUMBER OF CHICKENS ARE\",c)\n",
    "elif(l/2==h):\n",
    "    r=h\n",
    "    c=0\n",
    "    print(\"NUMBER OF RABBITS ARE \",r)\n",
    "    print(\"NUMBER OF CHICKENS ARE\",c)\n",
    "else:\n",
    "    c=(l-(2*h))/2\n",
    "    r=h-c\n",
    "    if(((r*2)+(c*4))==l):\n",
    "        print(\"NUMBER OF RABBITS ARE \",r)\n",
    "        print(\"NUMBER OF CHICKENS ARE\",c)\n",
    "    else:\n",
    "        print(\"NO SOLUTION\")"
   ]
  },
  {
   "cell_type": "code",
   "execution_count": 26,
   "id": "2abc4820",
   "metadata": {},
   "outputs": [
    {
     "name": "stdout",
     "output_type": "stream",
     "text": [
      "--------------welcome to airlines------------\n",
      "enter the name of airline VR\n",
      "enter the name of source delhi\n",
      "enter the name of destination gaya\n",
      "enter the number of passengers 4\n",
      "['VR:del:gay:101', 'VR:del:gay:102', 'VR:del:gay:103', 'VR:del:gay:104']\n"
     ]
    }
   ],
   "source": [
    "#Write a python program to generate the ticket numbers \n",
    "#for specified number of passengers traveling in a flight as per the details mentioned \n",
    "\n",
    "print('--------------welcome to airlines------------') \n",
    "\n",
    "ai=str(input(\"enter the name of airline \"))\n",
    "src=(str(input(\"enter the name of source \")))[0:3]\n",
    "dest=(str(input(\"enter the name of destination \")))[0:3]\n",
    "n=int(input(\"enter the number of passengers \"))\n",
    "\n",
    "op=[]\n",
    "for i in range (n-4,n+1):\n",
    "        c=str(i+100)\n",
    "        b=(ai,src,dest,c)\n",
    "        a=':'.join(b)\n",
    "        if (i+100)>100:\n",
    "            op.append(a)\n",
    "print(op)\n"
   ]
  },
  {
   "cell_type": "code",
   "execution_count": 29,
   "id": "9f7f71c3",
   "metadata": {},
   "outputs": [
    {
     "name": "stdout",
     "output_type": "stream",
     "text": [
      "enter the distance covered by bus. 45\n",
      "enter the total number of tickets sold in that distance 34\n",
      "profit earned : 2405.0 RS.\n"
     ]
    }
   ],
   "source": [
    "#The road transport corporation (RTC) of a city wants to know whether a particular bus-route is running on profit or loss.\n",
    "\n",
    "dis=int(input(\"enter the distance covered by bus. \"))\n",
    "tic=int(input(\"enter the total number of tickets sold in that distance \"))\n",
    "\n",
    "fuel_used= dis/10\n",
    "fuel_cost= fuel_used*70\n",
    "\n",
    "total_earning= tic*80\n",
    "\n",
    "if(total_earning >= fuel_cost):\n",
    "    profit=total_earning-fuel_cost\n",
    "    print('profit earned :',profit,'RS.')\n",
    "else:\n",
    "    print(-1)"
   ]
  },
  {
   "cell_type": "code",
   "execution_count": 40,
   "id": "48d17023",
   "metadata": {},
   "outputs": [
    {
     "name": "stdout",
     "output_type": "stream",
     "text": [
      "enter stringgggggggjjjjjjjjtttttvvvv\n",
      "7G8J5T4V\n"
     ]
    }
   ],
   "source": [
    "#question 19\n",
    "\n",
    "message= str(input(\"enter string\"))\n",
    "message=message.upper()\n",
    "encoded_message = \"\"\n",
    "i = 0\n",
    "while (i <= len(message)-1):\n",
    "        count = 1\n",
    "        ch = message[i]\n",
    "        j = i\n",
    "        while (j < len(message)-1):\n",
    "            if (message[j] == message[j+1]):\n",
    "                count = count+1\n",
    "                j = j+1\n",
    "            else:\n",
    "                break\n",
    "        encoded_message=encoded_message+str(count)+ch\n",
    "        i = j+1\n",
    "print(encoded_message)"
   ]
  },
  {
   "cell_type": "code",
   "execution_count": 43,
   "id": "95a8b863",
   "metadata": {},
   "outputs": [
    {
     "name": "stdout",
     "output_type": "stream",
     "text": [
      " enter the wordkikik\n",
      "TRUE\n"
     ]
    }
   ],
   "source": [
    "# ques 20\n",
    "\n",
    "st=str(input(' enter the word'))\n",
    "st=st.upper()\n",
    "if(st== st[::-1]):\n",
    "        print('TRUE')\n",
    "else:\n",
    "    print('FALSE')\n",
    "    "
   ]
  }
 ],
 "metadata": {
  "kernelspec": {
   "display_name": "Python 3 (ipykernel)",
   "language": "python",
   "name": "python3"
  },
  "language_info": {
   "codemirror_mode": {
    "name": "ipython",
    "version": 3
   },
   "file_extension": ".py",
   "mimetype": "text/x-python",
   "name": "python",
   "nbconvert_exporter": "python",
   "pygments_lexer": "ipython3",
   "version": "3.9.12"
  }
 },
 "nbformat": 4,
 "nbformat_minor": 5
}
